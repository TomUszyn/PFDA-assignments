{
 "cells": [
  {
   "cell_type": "markdown",
   "metadata": {},
   "source": [
    "A Jupyter Notebook that fetches data from a URL in CSV format and generates various plots:\n",
    "* Temperature: Visualize the temperature over time.\n",
    "* Daily Mean Temperature: Calculate and plot the average temperature for each day.\n",
    "* Monthly Mean Temperature: Calculate and plot the average temperature for each month.\n",
    "* Windspeed: Visualize the windspeed over time.\n",
    "* Rolling Windspeed: Calculate and plot the rolling windspeed over a 24-hour period.\n",
    "* Daily Max Windspeed: Find and plot the maximum wind speed for each day.\n",
    "* Monthly Mean of Daily Max Windspeeds: Calculate and plot the monthly average of the daily maximum wind speeds.\n",
    "\n",
    "The data set is obtained from: https://cli.fusio.net/cli/climate_data/webdata/hly4935.csv"
   ]
  },
  {
   "cell_type": "markdown",
   "metadata": {},
   "source": [
    "Author: Tomasz Uszynski"
   ]
  },
  {
   "cell_type": "markdown",
   "metadata": {},
   "source": [
    "***"
   ]
  },
  {
   "cell_type": "markdown",
   "metadata": {},
   "source": [
    "### Preparing the data:"
   ]
  },
  {
   "cell_type": "markdown",
   "metadata": {},
   "source": [
    "First of all is necessary to organise libraries. "
   ]
  },
  {
   "cell_type": "code",
   "execution_count": 1,
   "metadata": {},
   "outputs": [],
   "source": [
    "# Importing the required libraries.\n",
    "import pandas as pd\n",
    "import seaborn as sns\n",
    "import matplotlib.pyplot as plt\n",
    "import datetime"
   ]
  },
  {
   "cell_type": "markdown",
   "metadata": {},
   "source": [
    "The next step is reading data from the CSV file. In this case, it is mandatory to remove 23 rows from the data set. The skipped rows represent the description of the data set. The `head()` is used to examine the data set."
   ]
  },
  {
   "cell_type": "code",
   "execution_count": 2,
   "metadata": {},
   "outputs": [
    {
     "name": "stderr",
     "output_type": "stream",
     "text": [
      "C:\\Users\\samsu\\AppData\\Local\\Temp\\ipykernel_25184\\729475365.py:2: DtypeWarning: Columns (2,10,12,14,15,16,18,19,20) have mixed types. Specify dtype option on import or set low_memory=False.\n",
      "  df = pd.read_csv('https://cli.fusio.net/cli/climate_data/webdata/hly4935.csv', skiprows=23)\n"
     ]
    },
    {
     "data": {
      "text/html": [
       "<div>\n",
       "<style scoped>\n",
       "    .dataframe tbody tr th:only-of-type {\n",
       "        vertical-align: middle;\n",
       "    }\n",
       "\n",
       "    .dataframe tbody tr th {\n",
       "        vertical-align: top;\n",
       "    }\n",
       "\n",
       "    .dataframe thead th {\n",
       "        text-align: right;\n",
       "    }\n",
       "</style>\n",
       "<table border=\"1\" class=\"dataframe\">\n",
       "  <thead>\n",
       "    <tr style=\"text-align: right;\">\n",
       "      <th></th>\n",
       "      <th>date</th>\n",
       "      <th>ind</th>\n",
       "      <th>rain</th>\n",
       "      <th>ind.1</th>\n",
       "      <th>temp</th>\n",
       "      <th>ind.2</th>\n",
       "      <th>wetb</th>\n",
       "      <th>dewpt</th>\n",
       "      <th>vappr</th>\n",
       "      <th>rhum</th>\n",
       "      <th>...</th>\n",
       "      <th>ind.3</th>\n",
       "      <th>wdsp</th>\n",
       "      <th>ind.4</th>\n",
       "      <th>wddir</th>\n",
       "      <th>ww</th>\n",
       "      <th>w</th>\n",
       "      <th>sun</th>\n",
       "      <th>vis</th>\n",
       "      <th>clht</th>\n",
       "      <th>clamt</th>\n",
       "    </tr>\n",
       "  </thead>\n",
       "  <tbody>\n",
       "    <tr>\n",
       "      <th>0</th>\n",
       "      <td>10-apr-1996 14:00</td>\n",
       "      <td>0</td>\n",
       "      <td>0.0</td>\n",
       "      <td>0</td>\n",
       "      <td>11.5</td>\n",
       "      <td>0</td>\n",
       "      <td>8.1</td>\n",
       "      <td>3.9</td>\n",
       "      <td>0.0</td>\n",
       "      <td>0</td>\n",
       "      <td>...</td>\n",
       "      <td>0</td>\n",
       "      <td>0</td>\n",
       "      <td>0</td>\n",
       "      <td>0</td>\n",
       "      <td>25</td>\n",
       "      <td>81</td>\n",
       "      <td>0.0</td>\n",
       "      <td>35000</td>\n",
       "      <td>32</td>\n",
       "      <td>5</td>\n",
       "    </tr>\n",
       "    <tr>\n",
       "      <th>1</th>\n",
       "      <td>31-jul-1996 08:00</td>\n",
       "      <td>0</td>\n",
       "      <td>0.0</td>\n",
       "      <td>0</td>\n",
       "      <td>11.5</td>\n",
       "      <td>0</td>\n",
       "      <td>11.1</td>\n",
       "      <td>10.7</td>\n",
       "      <td>0.0</td>\n",
       "      <td>0</td>\n",
       "      <td>...</td>\n",
       "      <td>0</td>\n",
       "      <td>0</td>\n",
       "      <td>0</td>\n",
       "      <td>0</td>\n",
       "      <td>25</td>\n",
       "      <td>82</td>\n",
       "      <td>0.0</td>\n",
       "      <td>40000</td>\n",
       "      <td>45</td>\n",
       "      <td>5</td>\n",
       "    </tr>\n",
       "    <tr>\n",
       "      <th>2</th>\n",
       "      <td>31-jul-1996 09:00</td>\n",
       "      <td>0</td>\n",
       "      <td>0.0</td>\n",
       "      <td>0</td>\n",
       "      <td>11.6</td>\n",
       "      <td>0</td>\n",
       "      <td>10.7</td>\n",
       "      <td>9.8</td>\n",
       "      <td>0.0</td>\n",
       "      <td>0</td>\n",
       "      <td>...</td>\n",
       "      <td>0</td>\n",
       "      <td>0</td>\n",
       "      <td>0</td>\n",
       "      <td>0</td>\n",
       "      <td>80</td>\n",
       "      <td>81</td>\n",
       "      <td>0.0</td>\n",
       "      <td>8000</td>\n",
       "      <td>32</td>\n",
       "      <td>7</td>\n",
       "    </tr>\n",
       "  </tbody>\n",
       "</table>\n",
       "<p>3 rows × 21 columns</p>\n",
       "</div>"
      ],
      "text/plain": [
       "                date  ind rain  ind.1  temp  ind.2  wetb  dewpt  vappr  rhum  \\\n",
       "0  10-apr-1996 14:00    0  0.0      0  11.5      0   8.1    3.9    0.0     0   \n",
       "1  31-jul-1996 08:00    0  0.0      0  11.5      0  11.1   10.7    0.0     0   \n",
       "2  31-jul-1996 09:00    0  0.0      0  11.6      0  10.7    9.8    0.0     0   \n",
       "\n",
       "   ... ind.3  wdsp ind.4  wddir  ww   w  sun    vis clht clamt  \n",
       "0  ...     0     0     0      0  25  81  0.0  35000   32     5  \n",
       "1  ...     0     0     0      0  25  82  0.0  40000   45     5  \n",
       "2  ...     0     0     0      0  80  81  0.0   8000   32     7  \n",
       "\n",
       "[3 rows x 21 columns]"
      ]
     },
     "execution_count": 2,
     "metadata": {},
     "output_type": "execute_result"
    }
   ],
   "source": [
    "# Taking data from the URL and dropping 23 rows from the top.\n",
    "df = pd.read_csv('https://cli.fusio.net/cli/climate_data/webdata/hly4935.csv', skiprows=23)\n",
    "df.head(3)"
   ]
  },
  {
   "cell_type": "markdown",
   "metadata": {},
   "source": [
    "Checking data types."
   ]
  },
  {
   "cell_type": "code",
   "execution_count": 3,
   "metadata": {},
   "outputs": [
    {
     "name": "stdout",
     "output_type": "stream",
     "text": [
      "<class 'pandas.core.frame.DataFrame'>\n",
      "RangeIndex: 246930 entries, 0 to 246929\n",
      "Data columns (total 21 columns):\n",
      " #   Column  Non-Null Count   Dtype  \n",
      "---  ------  --------------   -----  \n",
      " 0   date    246930 non-null  object \n",
      " 1   ind     246930 non-null  int64  \n",
      " 2   rain    246930 non-null  object \n",
      " 3   ind.1   246930 non-null  int64  \n",
      " 4   temp    246930 non-null  float64\n",
      " 5   ind.2   246930 non-null  int64  \n",
      " 6   wetb    246930 non-null  float64\n",
      " 7   dewpt   246930 non-null  float64\n",
      " 8   vappr   246930 non-null  float64\n",
      " 9   rhum    246930 non-null  int64  \n",
      " 10  msl     246930 non-null  object \n",
      " 11  ind.3   246930 non-null  int64  \n",
      " 12  wdsp    246930 non-null  object \n",
      " 13  ind.4   246930 non-null  int64  \n",
      " 14  wddir   246930 non-null  object \n",
      " 15  ww      246930 non-null  object \n",
      " 16  w       246930 non-null  object \n",
      " 17  sun     246930 non-null  float64\n",
      " 18  vis     246930 non-null  object \n",
      " 19  clht    246930 non-null  object \n",
      " 20  clamt   246930 non-null  object \n",
      "dtypes: float64(5), int64(6), object(10)\n",
      "memory usage: 39.6+ MB\n"
     ]
    }
   ],
   "source": [
    "df.info()"
   ]
  },
  {
   "cell_type": "markdown",
   "metadata": {},
   "source": [
    "For plotting, it is necessary to convert the date columns to the datetime format."
   ]
  },
  {
   "cell_type": "code",
   "execution_count": 4,
   "metadata": {},
   "outputs": [
    {
     "name": "stderr",
     "output_type": "stream",
     "text": [
      "C:\\Users\\samsu\\AppData\\Local\\Temp\\ipykernel_25184\\2851015191.py:2: UserWarning: Could not infer format, so each element will be parsed individually, falling back to `dateutil`. To ensure parsing is consistent and as-expected, please specify a format.\n",
      "  df['date'] = pd.to_datetime(df['date'])\n"
     ]
    }
   ],
   "source": [
    "# Convert date column to datetime \n",
    "df['date'] = pd.to_datetime(df['date'])"
   ]
  },
  {
   "cell_type": "markdown",
   "metadata": {},
   "source": [
    "Checking if the data type is converted correctly."
   ]
  },
  {
   "cell_type": "code",
   "execution_count": 5,
   "metadata": {},
   "outputs": [
    {
     "name": "stdout",
     "output_type": "stream",
     "text": [
      "Data type of 'date' column is:  datetime64[ns]\n"
     ]
    }
   ],
   "source": [
    "# Check the data type of only the 'date' column\n",
    "date_column_dtype = df['date'].dtype\n",
    "print(\"Data type of 'date' column is: \", date_column_dtype)"
   ]
  },
  {
   "cell_type": "markdown",
   "metadata": {},
   "source": [
    "Setting the 'date' column as the index of the dataframe and checking the result."
   ]
  },
  {
   "cell_type": "code",
   "execution_count": 6,
   "metadata": {},
   "outputs": [
    {
     "data": {
      "text/html": [
       "<div>\n",
       "<style scoped>\n",
       "    .dataframe tbody tr th:only-of-type {\n",
       "        vertical-align: middle;\n",
       "    }\n",
       "\n",
       "    .dataframe tbody tr th {\n",
       "        vertical-align: top;\n",
       "    }\n",
       "\n",
       "    .dataframe thead th {\n",
       "        text-align: right;\n",
       "    }\n",
       "</style>\n",
       "<table border=\"1\" class=\"dataframe\">\n",
       "  <thead>\n",
       "    <tr style=\"text-align: right;\">\n",
       "      <th></th>\n",
       "      <th>ind</th>\n",
       "      <th>rain</th>\n",
       "      <th>ind.1</th>\n",
       "      <th>temp</th>\n",
       "      <th>ind.2</th>\n",
       "      <th>wetb</th>\n",
       "      <th>dewpt</th>\n",
       "      <th>vappr</th>\n",
       "      <th>rhum</th>\n",
       "      <th>msl</th>\n",
       "      <th>ind.3</th>\n",
       "      <th>wdsp</th>\n",
       "      <th>ind.4</th>\n",
       "      <th>wddir</th>\n",
       "      <th>ww</th>\n",
       "      <th>w</th>\n",
       "      <th>sun</th>\n",
       "      <th>vis</th>\n",
       "      <th>clht</th>\n",
       "      <th>clamt</th>\n",
       "    </tr>\n",
       "    <tr>\n",
       "      <th>date</th>\n",
       "      <th></th>\n",
       "      <th></th>\n",
       "      <th></th>\n",
       "      <th></th>\n",
       "      <th></th>\n",
       "      <th></th>\n",
       "      <th></th>\n",
       "      <th></th>\n",
       "      <th></th>\n",
       "      <th></th>\n",
       "      <th></th>\n",
       "      <th></th>\n",
       "      <th></th>\n",
       "      <th></th>\n",
       "      <th></th>\n",
       "      <th></th>\n",
       "      <th></th>\n",
       "      <th></th>\n",
       "      <th></th>\n",
       "      <th></th>\n",
       "    </tr>\n",
       "  </thead>\n",
       "  <tbody>\n",
       "    <tr>\n",
       "      <th>1996-04-10 14:00:00</th>\n",
       "      <td>0</td>\n",
       "      <td>0.0</td>\n",
       "      <td>0</td>\n",
       "      <td>11.5</td>\n",
       "      <td>0</td>\n",
       "      <td>8.1</td>\n",
       "      <td>3.9</td>\n",
       "      <td>0.0</td>\n",
       "      <td>0</td>\n",
       "      <td>1016.7</td>\n",
       "      <td>0</td>\n",
       "      <td>0</td>\n",
       "      <td>0</td>\n",
       "      <td>0</td>\n",
       "      <td>25</td>\n",
       "      <td>81</td>\n",
       "      <td>0.0</td>\n",
       "      <td>35000</td>\n",
       "      <td>32</td>\n",
       "      <td>5</td>\n",
       "    </tr>\n",
       "    <tr>\n",
       "      <th>1996-07-31 08:00:00</th>\n",
       "      <td>0</td>\n",
       "      <td>0.0</td>\n",
       "      <td>0</td>\n",
       "      <td>11.5</td>\n",
       "      <td>0</td>\n",
       "      <td>11.1</td>\n",
       "      <td>10.7</td>\n",
       "      <td>0.0</td>\n",
       "      <td>0</td>\n",
       "      <td>1011.4</td>\n",
       "      <td>0</td>\n",
       "      <td>0</td>\n",
       "      <td>0</td>\n",
       "      <td>0</td>\n",
       "      <td>25</td>\n",
       "      <td>82</td>\n",
       "      <td>0.0</td>\n",
       "      <td>40000</td>\n",
       "      <td>45</td>\n",
       "      <td>5</td>\n",
       "    </tr>\n",
       "    <tr>\n",
       "      <th>1996-07-31 09:00:00</th>\n",
       "      <td>0</td>\n",
       "      <td>0.0</td>\n",
       "      <td>0</td>\n",
       "      <td>11.6</td>\n",
       "      <td>0</td>\n",
       "      <td>10.7</td>\n",
       "      <td>9.8</td>\n",
       "      <td>0.0</td>\n",
       "      <td>0</td>\n",
       "      <td>1011.4</td>\n",
       "      <td>0</td>\n",
       "      <td>0</td>\n",
       "      <td>0</td>\n",
       "      <td>0</td>\n",
       "      <td>80</td>\n",
       "      <td>81</td>\n",
       "      <td>0.0</td>\n",
       "      <td>8000</td>\n",
       "      <td>32</td>\n",
       "      <td>7</td>\n",
       "    </tr>\n",
       "  </tbody>\n",
       "</table>\n",
       "</div>"
      ],
      "text/plain": [
       "                     ind rain  ind.1  temp  ind.2  wetb  dewpt  vappr  rhum  \\\n",
       "date                                                                          \n",
       "1996-04-10 14:00:00    0  0.0      0  11.5      0   8.1    3.9    0.0     0   \n",
       "1996-07-31 08:00:00    0  0.0      0  11.5      0  11.1   10.7    0.0     0   \n",
       "1996-07-31 09:00:00    0  0.0      0  11.6      0  10.7    9.8    0.0     0   \n",
       "\n",
       "                        msl  ind.3 wdsp  ind.4 wddir  ww   w  sun    vis clht  \\\n",
       "date                                                                            \n",
       "1996-04-10 14:00:00  1016.7      0    0      0     0  25  81  0.0  35000   32   \n",
       "1996-07-31 08:00:00  1011.4      0    0      0     0  25  82  0.0  40000   45   \n",
       "1996-07-31 09:00:00  1011.4      0    0      0     0  80  81  0.0   8000   32   \n",
       "\n",
       "                    clamt  \n",
       "date                       \n",
       "1996-04-10 14:00:00     5  \n",
       "1996-07-31 08:00:00     5  \n",
       "1996-07-31 09:00:00     7  "
      ]
     },
     "execution_count": 6,
     "metadata": {},
     "output_type": "execute_result"
    }
   ],
   "source": [
    "df.set_index('date', inplace=True) \n",
    "df.head(3)"
   ]
  },
  {
   "cell_type": "markdown",
   "metadata": {},
   "source": [
    "Identifying missing values in the data set."
   ]
  },
  {
   "cell_type": "code",
   "execution_count": 7,
   "metadata": {},
   "outputs": [
    {
     "name": "stdout",
     "output_type": "stream",
     "text": [
      "ind          0\n",
      "rain        49\n",
      "ind.1        0\n",
      "temp         0\n",
      "ind.2        0\n",
      "wetb         0\n",
      "dewpt        0\n",
      "vappr        0\n",
      "rhum         0\n",
      "msl         18\n",
      "ind.3        0\n",
      "wdsp        50\n",
      "ind.4        0\n",
      "wddir       52\n",
      "ww       54712\n",
      "w        54713\n",
      "sun          0\n",
      "vis      61807\n",
      "clht        18\n",
      "clamt       18\n",
      "dtype: int64\n"
     ]
    }
   ],
   "source": [
    "# Checking for different representations of missing values \n",
    "missingData = df.isin(['', ' ', 'NA', 'NaN', 'null']).sum()\n",
    "print(missingData)"
   ]
  },
  {
   "cell_type": "markdown",
   "metadata": {},
   "source": [
    "***"
   ]
  }
 ],
 "metadata": {
  "kernelspec": {
   "display_name": "Python 3",
   "language": "python",
   "name": "python3"
  },
  "language_info": {
   "codemirror_mode": {
    "name": "ipython",
    "version": 3
   },
   "file_extension": ".py",
   "mimetype": "text/x-python",
   "name": "python",
   "nbconvert_exporter": "python",
   "pygments_lexer": "ipython3",
   "version": "3.11.5"
  }
 },
 "nbformat": 4,
 "nbformat_minor": 2
}
