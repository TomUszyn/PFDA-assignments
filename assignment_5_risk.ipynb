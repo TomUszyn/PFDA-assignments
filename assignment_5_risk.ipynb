{
 "cells": [
  {
   "cell_type": "markdown",
   "metadata": {},
   "source": [
    "### **A program called** *assignment_5_risk.ipynb*.\n",
    "\n",
    "Author: Tomasz Uszynski\n",
    "\n",
    "***"
   ]
  },
  {
   "cell_type": "markdown",
   "metadata": {},
   "source": [
    "\n",
    "##### **Idea of the program.**\n",
    "\n",
    "The program simulates 1000 individual battle rounds in Risk (3 attacker vs 2 defender) and plots the result.\n",
    "\n",
    "One battle round is one shake of the attacker and defender dice."
   ]
  },
  {
   "cell_type": "markdown",
   "metadata": {},
   "source": [
    "##### **Rules of Risk**\n",
    "\n",
    "In Risk one army fights another (using 6 sided dice).\n",
    "\n",
    "In each battle round, the attacker can put forward up to three of their troops (3 dice).\n",
    "\n",
    "The defender can use up to two of their defending troops (2 dice).\n",
    "\n",
    "Each side looses troops depending on the following rules:\n",
    "\n",
    "1. The two top dice dice are compared (ie the attackers top dice roll with the defenders top dice roll) \n",
    "    If the attackers dice is the same or lower they loose one troop otherwise the defender looses a troop   (ie if the attackers dice is higher)\n",
    "2. The next two highest dice from each side are then compared (ie the attackers second highest to the   defenders second highest)\n",
    "If the attackers dice is the same or lower they loose one troop otherwise the defender looses a troop  (ie if the attackers dice is higher)"
   ]
  },
  {
   "cell_type": "markdown",
   "metadata": {},
   "source": [
    "***\n"
   ]
  },
  {
   "cell_type": "markdown",
   "metadata": {},
   "source": [
    "##### **Realisation of the program idea.**"
   ]
  },
  {
   "cell_type": "markdown",
   "metadata": {},
   "source": [
    "Importing neccesary libraries."
   ]
  },
  {
   "cell_type": "code",
   "execution_count": 4,
   "metadata": {},
   "outputs": [],
   "source": [
    "import numpy as np\n",
    "import matplotlib.pyplot as plt"
   ]
  },
  {
   "cell_type": "markdown",
   "metadata": {},
   "source": [
    "Creating a function rollDice to simulate dice roll."
   ]
  },
  {
   "cell_type": "code",
   "execution_count": 3,
   "metadata": {},
   "outputs": [],
   "source": [
    "def rollDice(numDice):\n",
    "    # Rolls dice and returns the results sorted in descending order\n",
    "    return np.sort(np.random.choice(np.arange(1, 7), size=numDice))[::-1]"
   ]
  },
  {
   "cell_type": "markdown",
   "metadata": {},
   "source": [
    "Creating function simulateBattleRounds taking argument numSimulations (number of simulations)."
   ]
  },
  {
   "cell_type": "code",
   "execution_count": 22,
   "metadata": {},
   "outputs": [],
   "source": [
    "def simulateBattleRounds(numSimulations):\n",
    "    attackerTotalLosses = 0\n",
    "    defenderTotalLosses = 0\n",
    "\n",
    "    for _ in range(numSimulations):\n",
    "        # Simulate 3 dice rolls for the attacker and 2 for the defender\n",
    "        attackerDice = rollDice(3)\n",
    "        defenderDice = rollDice(2)\n",
    "        '''\n",
    "        This code checks if the dice rolls are correct.\n",
    "        \n",
    "        # Format dice results without brackets\n",
    "        attackerDiceString = ' '.join(map(str, attackerDice))\n",
    "        defenderDiceString = ' '.join(map(str, defenderDice))\n",
    "\n",
    "        print(f'Attacker dice: {attackerDiceString}')\n",
    "        print(f'Defender dice: {defenderDiceString}')\n",
    "        '''\n",
    "        # Initialise losses\n",
    "        attackerLosses = 0\n",
    "        defenderLosses = 0\n",
    "\n",
    "        # Compare the highest dice\n",
    "        for i in range(2):\n",
    "            if attackerDice[i] > defenderDice[i]:\n",
    "                defenderLosses += 1\n",
    "            else:\n",
    "                attackerLosses += 1\n",
    "\n",
    "        attackerTotalLosses += attackerLosses\n",
    "        defenderTotalLosses += defenderLosses\n",
    "\n",
    "    return attackerTotalLosses, defenderTotalLosses"
   ]
  },
  {
   "cell_type": "markdown",
   "metadata": {},
   "source": [
    "Simulation of 1000 battles."
   ]
  },
  {
   "cell_type": "code",
   "execution_count": 20,
   "metadata": {},
   "outputs": [],
   "source": [
    "numSimulations = 1000\n",
    "\n",
    "attackerTotalLosses, defenderTotalLosses = simulateBattleRounds(numSimulations)\n"
   ]
  },
  {
   "cell_type": "markdown",
   "metadata": {},
   "source": [
    "Printing out result of battles."
   ]
  },
  {
   "cell_type": "code",
   "execution_count": 21,
   "metadata": {},
   "outputs": [
    {
     "name": "stdout",
     "output_type": "stream",
     "text": [
      "Total Attacker Losses: 960\n",
      "Total Defender Losses: 1040\n"
     ]
    }
   ],
   "source": [
    "print(f\"Total Attacker Losses: {attackerTotalLosses}\")\n",
    "print(f\"Total Defender Losses: {defenderTotalLosses}\")"
   ]
  }
 ],
 "metadata": {
  "kernelspec": {
   "display_name": "Python 3",
   "language": "python",
   "name": "python3"
  },
  "language_info": {
   "codemirror_mode": {
    "name": "ipython",
    "version": 3
   },
   "file_extension": ".py",
   "mimetype": "text/x-python",
   "name": "python",
   "nbconvert_exporter": "python",
   "pygments_lexer": "ipython3",
   "version": "3.11.5"
  }
 },
 "nbformat": 4,
 "nbformat_minor": 2
}
