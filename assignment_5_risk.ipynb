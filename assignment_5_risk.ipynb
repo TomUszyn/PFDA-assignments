{
 "cells": [
  {
   "cell_type": "markdown",
   "metadata": {},
   "source": [
    "### **A program called** *assignment_5_risk.ipynb*.\n",
    "\n",
    "Author: Tomasz Uszynski\n",
    "\n",
    "***"
   ]
  },
  {
   "cell_type": "markdown",
   "metadata": {},
   "source": [
    "\n",
    "##### **Idea of the program.**\n",
    "\n",
    "The program simulates 1000 individual battle rounds in Risk (3 attacker vs 2 defender) and plots the result.\n",
    "\n",
    "One battle round is one shake of the attacker and defender dice."
   ]
  },
  {
   "cell_type": "markdown",
   "metadata": {},
   "source": [
    "##### **Rules of Risk**\n",
    "\n",
    "In Risk one army fights another (using 6 sided dice).\n",
    "\n",
    "In each battle round, the attacker can put forward up to three of their troops (3 dice).\n",
    "\n",
    "The defender can use up to two of their defending troops (2 dice).\n",
    "\n",
    "Each side looses troops depending on the following rules:\n",
    "\n",
    "1. The two top dice dice are compared (ie the attackers top dice roll with the defenders top dice roll) \n",
    "    If the attackers dice is the same or lower they loose one troop otherwise the defender looses a troop   (ie if the attackers dice is higher)\n",
    "2. The next two highest dice from each side are then compared (ie the attackers second highest to the   defenders second highest)\n",
    "If the attackers dice is the same or lower they loose one troop otherwise the defender looses a troop  (ie if the attackers dice is higher)"
   ]
  },
  {
   "cell_type": "markdown",
   "metadata": {},
   "source": [
    "***\n"
   ]
  },
  {
   "cell_type": "markdown",
   "metadata": {},
   "source": [
    "##### **Realisation of the program idea.**"
   ]
  },
  {
   "cell_type": "markdown",
   "metadata": {},
   "source": [
    "Importing neccesary libraries."
   ]
  },
  {
   "cell_type": "code",
   "execution_count": 1,
   "metadata": {},
   "outputs": [],
   "source": [
    "import numpy as np\n",
    "import matplotlib.pyplot as plt"
   ]
  },
  {
   "cell_type": "markdown",
   "metadata": {},
   "source": [
    "Creating a function rollDice to simulate dice roll."
   ]
  },
  {
   "cell_type": "code",
   "execution_count": 2,
   "metadata": {},
   "outputs": [],
   "source": [
    "def rollDice(numDice):\n",
    "    # Rolls dice and returns the results sorted in descending order\n",
    "    return np.sort(np.random.choice(np.arange(1, 7), size=numDice))[::-1]"
   ]
  },
  {
   "cell_type": "markdown",
   "metadata": {},
   "source": [
    "Creating function simulateBattleRounds taking argument numSimulations (number of simulations)."
   ]
  },
  {
   "cell_type": "code",
   "execution_count": 3,
   "metadata": {},
   "outputs": [],
   "source": [
    "def simulateBattleRounds(numSimulations):\n",
    "    attackerTotalLosses = 0\n",
    "    defenderTotalLosses = 0\n",
    "\n",
    "    for _ in range(numSimulations):\n",
    "        # Simulate 3 dice rolls for the attacker and 2 for the defender\n",
    "        attackerDice = rollDice(3)\n",
    "        defenderDice = rollDice(2)\n",
    "        '''\n",
    "        This code checks if the dice rolls are correct.\n",
    "        \n",
    "        # Format dice results without brackets\n",
    "        attackerDiceString = ' '.join(map(str, attackerDice))\n",
    "        defenderDiceString = ' '.join(map(str, defenderDice))\n",
    "\n",
    "        print(f'Attacker dice: {attackerDiceString}')\n",
    "        print(f'Defender dice: {defenderDiceString}')\n",
    "        '''\n",
    "        # Initialise losses\n",
    "        attackerLosses = 0\n",
    "        defenderLosses = 0\n",
    "\n",
    "        # Compare the highest dice\n",
    "        for i in range(2):\n",
    "            if attackerDice[i] > defenderDice[i]:\n",
    "                defenderLosses += 1\n",
    "            else:\n",
    "                attackerLosses += 1\n",
    "\n",
    "        attackerTotalLosses += attackerLosses\n",
    "        defenderTotalLosses += defenderLosses\n",
    "\n",
    "    return attackerTotalLosses, defenderTotalLosses"
   ]
  },
  {
   "cell_type": "markdown",
   "metadata": {},
   "source": [
    "Simulation of 1000 battles."
   ]
  },
  {
   "cell_type": "code",
   "execution_count": 4,
   "metadata": {},
   "outputs": [],
   "source": [
    "numSimulations = 1000\n",
    "\n",
    "attackerTotalLosses, defenderTotalLosses = simulateBattleRounds(numSimulations)\n"
   ]
  },
  {
   "cell_type": "markdown",
   "metadata": {},
   "source": [
    "Printing out the result of battles."
   ]
  },
  {
   "cell_type": "code",
   "execution_count": 5,
   "metadata": {},
   "outputs": [
    {
     "name": "stdout",
     "output_type": "stream",
     "text": [
      "Total Attacker Losses: 916\n",
      "Total Defender Losses: 1084\n"
     ]
    }
   ],
   "source": [
    "print(f\"Total Attacker Losses: {attackerTotalLosses}\")\n",
    "print(f\"Total Defender Losses: {defenderTotalLosses}\")"
   ]
  },
  {
   "cell_type": "markdown",
   "metadata": {},
   "source": [
    "Plotting the result of simulation."
   ]
  },
  {
   "cell_type": "code",
   "execution_count": 6,
   "metadata": {},
   "outputs": [
    {
     "data": {
      "image/png": "[encoded data removed]",
      "text/plain": [
       "<Figure size 640x480 with 1 Axes>"
      ]
     },
     "metadata": {},
     "output_type": "display_data"
    }
   ],
   "source": [
    "# Different color for each bar\n",
    "colors = ['#06C', '#A2D9D9']\n",
    "\n",
    "labels = ['Attacker', 'Defender']\n",
    "losses = [attackerTotalLosses, defenderTotalLosses]\n",
    "bars = plt.bar(labels, losses, color=colors, alpha=0.7, edgecolor='black', width=0.4)\n",
    "plt.ylabel('Total Losses', fontsize=10, fontweight='bold')\n",
    "plt.xlabel('Players', fontsize=10, fontweight='bold')\n",
    "plt.title('Frequency of Total Losses in 1000 Simulations', fontsize=12, fontweight='bold')\n",
    "plt.grid(axis='y', linestyle='--', alpha=0.6)\n",
    "\n",
    "# Determine the maximum total losses for setting y-axis limit \n",
    "maxLosses = max(attackerTotalLosses, defenderTotalLosses)\n",
    "\n",
    "plt.ylim(0, maxLosses + 100)\n",
    "\n",
    "# Add descriptions above the bars \n",
    "for bar in bars:\n",
    "    yval = bar.get_height() \n",
    "    plt.annotate(format(yval), \n",
    "                 (bar.get_x() + bar.get_width() / 2, yval),\n",
    "                 ha='center', va='center', size=10, xytext=(0, 8),\n",
    "                 textcoords='offset points', color='gray', alpha=0.7)\n",
    "    \n",
    "plt.show()"
   ]
  },
  {
   "cell_type": "markdown",
   "metadata": {},
   "source": [
    "##### **Extra feature.**"
   ]
  },
  {
   "cell_type": "markdown",
   "metadata": {},
   "source": [
    "Simulating a full series of rounds for armies of arbitrary sizes, until one side is wiped out."
   ]
  },
  {
   "cell_type": "code",
   "execution_count": 7,
   "metadata": {},
   "outputs": [],
   "source": [
    "def simulateBattle(attackerTroops, defenderTroops):\n",
    "    attackerLosses = [attackerTroops]\n",
    "    defenderLosses = [defenderTroops]\n",
    "    roundNumber = 1\n",
    "\n",
    "    while attackerTroops > 0 and defenderTroops > 0:\n",
    "        #print(f\"Round {roundNumber}\") # Used to print the round number.\n",
    "        \n",
    "        attackerDice = rollDice(min(3, attackerTroops))\n",
    "        defenderDice = rollDice(min(2, defenderTroops))\n",
    "        \n",
    "        #attackerDiceString = ' '.join(map(str, attackerDice))\n",
    "        #defenderDiceString = ' '.join(map(str, defenderDice))\n",
    "        \n",
    "        #print(f'Attacker dice: {attackerDiceString}')  # Used to print the attacker dice.\n",
    "        #print(f'Defender dice: {defenderDiceString}')  # Used to print the defender dice.\n",
    "        \n",
    "        attackerLoss = 0\n",
    "        defenderLoss = 0\n",
    "        \n",
    "        for attackerDie, defenderDie in zip(attackerDice, defenderDice):\n",
    "            if attackerDie > defenderDie:\n",
    "                defenderLoss += 1\n",
    "            else:\n",
    "                attackerLoss += 1\n",
    "        \n",
    "        attackerTroops -= attackerLoss\n",
    "        defenderTroops -= defenderLoss\n",
    "        attackerLosses.append(attackerTroops)\n",
    "        defenderLosses.append(defenderTroops)\n",
    "        \n",
    "        # Print the round results and remaining troops.\n",
    "        #print(f\"Round Results -> Attacker Losses: {attackerLoss}, Defender Losses: {defenderLoss}\")\n",
    "        #print(f\"Remaining Troops -> Attacker: {attackerTroops}, Defender: {defenderTroops}\")\n",
    "\n",
    "        roundNumber += 1\n",
    "\n",
    "    #print(f\"Total number of rounds: {roundNumber - 1}\")\n",
    "    return attackerLosses, defenderLosses, roundNumber - 1\n"
   ]
  }
 ],
 "metadata": {
  "kernelspec": {
   "display_name": "Python 3",
   "language": "python",
   "name": "python3"
  },
  "language_info": {
   "codemirror_mode": {
    "name": "ipython",
    "version": 3
   },
   "file_extension": ".py",
   "mimetype": "text/x-python",
   "name": "python",
   "nbconvert_exporter": "python",
   "pygments_lexer": "ipython3",
   "version": "3.11.5"
  }
 },
 "nbformat": 4,
 "nbformat_minor": 2
}
