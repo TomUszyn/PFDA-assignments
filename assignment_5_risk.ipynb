{
 "cells": [
  {
   "cell_type": "markdown",
   "metadata": {},
   "source": [
    "### **A program called** *assignment_5_risk.ipynb*.\n",
    "\n",
    "Author: Tomasz Uszynski\n",
    "\n",
    "***"
   ]
  },
  {
   "cell_type": "markdown",
   "metadata": {},
   "source": [
    "\n",
    "##### **Idea of the program.**\n",
    "\n",
    "The program simulates 1000 individual battle rounds in Risk (3 attacker vs 2 defender) and plots the result.\n",
    "\n",
    "One battle round is one shake of the attacker and defender dice."
   ]
  },
  {
   "cell_type": "markdown",
   "metadata": {},
   "source": [
    "##### **Rules of Risk**\n",
    "\n",
    "In Risk one army fights another (using 6 sided dice).\n",
    "\n",
    "In each battle round, the attacker can put forward up to three of their troops (3 dice).\n",
    "\n",
    "The defender can use up to two of their defending troops (2 dice).\n",
    "\n",
    "Each side looses troops depending on the following rules:\n",
    "\n",
    "1. The two top dice dice are compared (ie the attackers top dice roll with the defenders top dice roll) \n",
    "    If the attackers dice is the same or lower they loose one troop otherwise the defender looses a troop   (ie if the attackers dice is higher)\n",
    "2. The next two highest dice from each side are then compared (ie the attackers second highest to the   defenders second highest)\n",
    "If the attackers dice is the same or lower they loose one troop otherwise the defender looses a troop  (ie if the attackers dice is higher)"
   ]
  },
  {
   "cell_type": "markdown",
   "metadata": {},
   "source": [
    "***\n"
   ]
  },
  {
   "cell_type": "markdown",
   "metadata": {},
   "source": []
  }
 ],
 "metadata": {
  "kernelspec": {
   "display_name": "Python 3",
   "language": "python",
   "name": "python3"
  },
  "language_info": {
   "codemirror_mode": {
    "name": "ipython",
    "version": 3
   },
   "file_extension": ".py",
   "mimetype": "text/x-python",
   "name": "python",
   "nbconvert_exporter": "python",
   "pygments_lexer": "ipython3",
   "version": "3.11.5"
  }
 },
 "nbformat": 4,
 "nbformat_minor": 2
}
